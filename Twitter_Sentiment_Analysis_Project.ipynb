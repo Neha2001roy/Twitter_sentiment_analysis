{
 "cells": [
  {
   "cell_type": "markdown",
   "id": "8ea90ef2-8f1e-4782-828e-fd84fc69e375",
   "metadata": {},
   "source": [
    "## Twitter Sentiment Analysis Project"
   ]
  },
  {
   "cell_type": "markdown",
   "id": "d6785b40-1ebd-447b-819d-631ef3c3c921",
   "metadata": {},
   "source": [
    "#### Import Dependencies"
   ]
  },
  {
   "cell_type": "code",
   "execution_count": 40,
   "id": "ed42fccc-014d-46ae-9bec-782ce0d0e681",
   "metadata": {},
   "outputs": [],
   "source": [
    "import numpy as np\n",
    "import pandas as pd\n",
    "import re\n",
    "import seaborn as sns\n",
    "import matplotlib.pyplot as plt\n",
    "from sklearn.model_selection import train_test_split\n",
    "from sklearn.feature_extraction.text import CountVectorizer\n",
    "from nltk.corpus import stopwords\n",
    "from nltk.stem import PorterStemmer\n",
    "import tensorflow as tf\n",
    "from sklearn.preprocessing import LabelEncoder\n",
    "from tensorflow.keras.utils import to_categorical\n",
    "from tensorflow.keras import layers, models\n",
    "from tensorflow.keras.layers import Dense\n",
    "import warnings\n",
    "warnings.filterwarnings(\"ignore\")"
   ]
  },
  {
   "cell_type": "code",
   "execution_count": 3,
   "id": "b0732c5f-c5c6-4084-b97a-6ccb7d341284",
   "metadata": {},
   "outputs": [],
   "source": [
    "import nltk"
   ]
  },
  {
   "cell_type": "code",
   "execution_count": 4,
   "id": "ae314f0b-f5b4-44c4-b725-b37de66c5c94",
   "metadata": {},
   "outputs": [
    {
     "name": "stderr",
     "output_type": "stream",
     "text": [
      "[nltk_data] Downloading package stopwords to\n",
      "[nltk_data]     C:\\Users\\Prabhakar\\AppData\\Roaming\\nltk_data...\n",
      "[nltk_data]   Package stopwords is already up-to-date!\n"
     ]
    },
    {
     "data": {
      "text/plain": [
       "True"
      ]
     },
     "execution_count": 4,
     "metadata": {},
     "output_type": "execute_result"
    }
   ],
   "source": [
    "nltk.download('stopwords')"
   ]
  },
  {
   "cell_type": "markdown",
   "id": "54ef6697-a503-4963-a8a5-c1453f8a7c9b",
   "metadata": {},
   "source": [
    "#### Load the Dataset"
   ]
  },
  {
   "cell_type": "code",
   "execution_count": 5,
   "id": "9aefba92-c8d1-45dc-9bc3-0a235a04f26d",
   "metadata": {},
   "outputs": [],
   "source": [
    "df=pd.read_csv(r\"C:\\Users\\Prabhakar\\OneDrive\\Desktop\\Data Analytics\\AI1094\\twitter_training.csv\")"
   ]
  },
  {
   "cell_type": "markdown",
   "id": "70e87848-e9d0-43ea-88c0-e08f91dcd03c",
   "metadata": {},
   "source": [
    "#### Visualising the first 5 rows of the dataset"
   ]
  },
  {
   "cell_type": "code",
   "execution_count": 6,
   "id": "0d5bb4cc-9dbe-48ff-b7ea-1ca32b20cdde",
   "metadata": {},
   "outputs": [
    {
     "data": {
      "text/html": [
       "<div>\n",
       "<style scoped>\n",
       "    .dataframe tbody tr th:only-of-type {\n",
       "        vertical-align: middle;\n",
       "    }\n",
       "\n",
       "    .dataframe tbody tr th {\n",
       "        vertical-align: top;\n",
       "    }\n",
       "\n",
       "    .dataframe thead th {\n",
       "        text-align: right;\n",
       "    }\n",
       "</style>\n",
       "<table border=\"1\" class=\"dataframe\">\n",
       "  <thead>\n",
       "    <tr style=\"text-align: right;\">\n",
       "      <th></th>\n",
       "      <th>2401</th>\n",
       "      <th>Borderlands</th>\n",
       "      <th>Positive</th>\n",
       "      <th>im getting on borderlands and i will murder you all ,</th>\n",
       "    </tr>\n",
       "  </thead>\n",
       "  <tbody>\n",
       "    <tr>\n",
       "      <th>0</th>\n",
       "      <td>2401</td>\n",
       "      <td>Borderlands</td>\n",
       "      <td>Positive</td>\n",
       "      <td>I am coming to the borders and I will kill you...</td>\n",
       "    </tr>\n",
       "    <tr>\n",
       "      <th>1</th>\n",
       "      <td>2401</td>\n",
       "      <td>Borderlands</td>\n",
       "      <td>Positive</td>\n",
       "      <td>im getting on borderlands and i will kill you ...</td>\n",
       "    </tr>\n",
       "    <tr>\n",
       "      <th>2</th>\n",
       "      <td>2401</td>\n",
       "      <td>Borderlands</td>\n",
       "      <td>Positive</td>\n",
       "      <td>im coming on borderlands and i will murder you...</td>\n",
       "    </tr>\n",
       "    <tr>\n",
       "      <th>3</th>\n",
       "      <td>2401</td>\n",
       "      <td>Borderlands</td>\n",
       "      <td>Positive</td>\n",
       "      <td>im getting on borderlands 2 and i will murder ...</td>\n",
       "    </tr>\n",
       "    <tr>\n",
       "      <th>4</th>\n",
       "      <td>2401</td>\n",
       "      <td>Borderlands</td>\n",
       "      <td>Positive</td>\n",
       "      <td>im getting into borderlands and i can murder y...</td>\n",
       "    </tr>\n",
       "  </tbody>\n",
       "</table>\n",
       "</div>"
      ],
      "text/plain": [
       "   2401  Borderlands  Positive  \\\n",
       "0  2401  Borderlands  Positive   \n",
       "1  2401  Borderlands  Positive   \n",
       "2  2401  Borderlands  Positive   \n",
       "3  2401  Borderlands  Positive   \n",
       "4  2401  Borderlands  Positive   \n",
       "\n",
       "  im getting on borderlands and i will murder you all ,  \n",
       "0  I am coming to the borders and I will kill you...     \n",
       "1  im getting on borderlands and i will kill you ...     \n",
       "2  im coming on borderlands and i will murder you...     \n",
       "3  im getting on borderlands 2 and i will murder ...     \n",
       "4  im getting into borderlands and i can murder y...     "
      ]
     },
     "execution_count": 6,
     "metadata": {},
     "output_type": "execute_result"
    }
   ],
   "source": [
    "df.head()"
   ]
  },
  {
   "cell_type": "markdown",
   "id": "858c5252-c853-4c0f-96b7-9e7facf46c30",
   "metadata": {},
   "source": [
    "#### Visualising the last 5 rows of the dataset"
   ]
  },
  {
   "cell_type": "code",
   "execution_count": 7,
   "id": "22868f91-7019-4fcc-b881-a4efd3100bca",
   "metadata": {},
   "outputs": [
    {
     "data": {
      "text/html": [
       "<div>\n",
       "<style scoped>\n",
       "    .dataframe tbody tr th:only-of-type {\n",
       "        vertical-align: middle;\n",
       "    }\n",
       "\n",
       "    .dataframe tbody tr th {\n",
       "        vertical-align: top;\n",
       "    }\n",
       "\n",
       "    .dataframe thead th {\n",
       "        text-align: right;\n",
       "    }\n",
       "</style>\n",
       "<table border=\"1\" class=\"dataframe\">\n",
       "  <thead>\n",
       "    <tr style=\"text-align: right;\">\n",
       "      <th></th>\n",
       "      <th>2401</th>\n",
       "      <th>Borderlands</th>\n",
       "      <th>Positive</th>\n",
       "      <th>im getting on borderlands and i will murder you all ,</th>\n",
       "    </tr>\n",
       "  </thead>\n",
       "  <tbody>\n",
       "    <tr>\n",
       "      <th>74676</th>\n",
       "      <td>9200</td>\n",
       "      <td>Nvidia</td>\n",
       "      <td>Positive</td>\n",
       "      <td>Just realized that the Windows partition of my...</td>\n",
       "    </tr>\n",
       "    <tr>\n",
       "      <th>74677</th>\n",
       "      <td>9200</td>\n",
       "      <td>Nvidia</td>\n",
       "      <td>Positive</td>\n",
       "      <td>Just realized that my Mac window partition is ...</td>\n",
       "    </tr>\n",
       "    <tr>\n",
       "      <th>74678</th>\n",
       "      <td>9200</td>\n",
       "      <td>Nvidia</td>\n",
       "      <td>Positive</td>\n",
       "      <td>Just realized the windows partition of my Mac ...</td>\n",
       "    </tr>\n",
       "    <tr>\n",
       "      <th>74679</th>\n",
       "      <td>9200</td>\n",
       "      <td>Nvidia</td>\n",
       "      <td>Positive</td>\n",
       "      <td>Just realized between the windows partition of...</td>\n",
       "    </tr>\n",
       "    <tr>\n",
       "      <th>74680</th>\n",
       "      <td>9200</td>\n",
       "      <td>Nvidia</td>\n",
       "      <td>Positive</td>\n",
       "      <td>Just like the windows partition of my Mac is l...</td>\n",
       "    </tr>\n",
       "  </tbody>\n",
       "</table>\n",
       "</div>"
      ],
      "text/plain": [
       "       2401 Borderlands  Positive  \\\n",
       "74676  9200      Nvidia  Positive   \n",
       "74677  9200      Nvidia  Positive   \n",
       "74678  9200      Nvidia  Positive   \n",
       "74679  9200      Nvidia  Positive   \n",
       "74680  9200      Nvidia  Positive   \n",
       "\n",
       "      im getting on borderlands and i will murder you all ,  \n",
       "74676  Just realized that the Windows partition of my...     \n",
       "74677  Just realized that my Mac window partition is ...     \n",
       "74678  Just realized the windows partition of my Mac ...     \n",
       "74679  Just realized between the windows partition of...     \n",
       "74680  Just like the windows partition of my Mac is l...     "
      ]
     },
     "execution_count": 7,
     "metadata": {},
     "output_type": "execute_result"
    }
   ],
   "source": [
    "df.tail()"
   ]
  },
  {
   "cell_type": "markdown",
   "id": "34097d36-e2b1-49c7-ae89-113b36dd3666",
   "metadata": {},
   "source": [
    "#### Here we can see that the 1st row of the dataset has been shown as the column name, hence we have to change that"
   ]
  },
  {
   "cell_type": "code",
   "execution_count": 8,
   "id": "21c35315-857a-4529-9a4a-88c6db3a3a0f",
   "metadata": {},
   "outputs": [
    {
     "name": "stdout",
     "output_type": "stream",
     "text": [
      "<class 'pandas.core.frame.DataFrame'>\n",
      "RangeIndex: 74681 entries, 0 to 74680\n",
      "Data columns (total 4 columns):\n",
      " #   Column                                                 Non-Null Count  Dtype \n",
      "---  ------                                                 --------------  ----- \n",
      " 0   2401                                                   74681 non-null  int64 \n",
      " 1   Borderlands                                            74681 non-null  object\n",
      " 2   Positive                                               74681 non-null  object\n",
      " 3   im getting on borderlands and i will murder you all ,  73995 non-null  object\n",
      "dtypes: int64(1), object(3)\n",
      "memory usage: 2.3+ MB\n"
     ]
    }
   ],
   "source": [
    "df.info()"
   ]
  },
  {
   "cell_type": "code",
   "execution_count": 9,
   "id": "63318464-1b40-4e81-984b-ec6d85c6fe9b",
   "metadata": {},
   "outputs": [
    {
     "data": {
      "text/plain": [
       "(74681, 4)"
      ]
     },
     "execution_count": 9,
     "metadata": {},
     "output_type": "execute_result"
    }
   ],
   "source": [
    "df.shape"
   ]
  },
  {
   "cell_type": "markdown",
   "id": "b913d681-2811-4eb3-8883-5c435c01bc24",
   "metadata": {},
   "source": [
    "#### Here we can see that there are 74681 rows and 4 columns"
   ]
  },
  {
   "cell_type": "markdown",
   "id": "16c437d2-2e69-461c-8cf6-392357b1e176",
   "metadata": {},
   "source": [
    "#### Entering the names of the column"
   ]
  },
  {
   "cell_type": "code",
   "execution_count": 10,
   "id": "f7346252-8854-4961-97fe-912f9125342a",
   "metadata": {},
   "outputs": [],
   "source": [
    "column_names=['Tweet_ID','Entity','Sentiment','Tweet_Content']"
   ]
  },
  {
   "cell_type": "code",
   "execution_count": 11,
   "id": "81c12ef9-9a3a-476f-8ce6-af0215f9ea15",
   "metadata": {},
   "outputs": [],
   "source": [
    "df=pd.read_csv(r\"C:\\Users\\Prabhakar\\OneDrive\\Desktop\\Data Analytics\\AI1094\\twitter_training.csv\",names=column_names)"
   ]
  },
  {
   "cell_type": "markdown",
   "id": "c71f33a6-80f4-4c8d-9501-d2136745912a",
   "metadata": {},
   "source": [
    "#### Now we can see that the column names have been specified"
   ]
  },
  {
   "cell_type": "code",
   "execution_count": 12,
   "id": "1a61beec-14e4-4103-80e0-9b72d5ba9a78",
   "metadata": {},
   "outputs": [
    {
     "data": {
      "text/html": [
       "<div>\n",
       "<style scoped>\n",
       "    .dataframe tbody tr th:only-of-type {\n",
       "        vertical-align: middle;\n",
       "    }\n",
       "\n",
       "    .dataframe tbody tr th {\n",
       "        vertical-align: top;\n",
       "    }\n",
       "\n",
       "    .dataframe thead th {\n",
       "        text-align: right;\n",
       "    }\n",
       "</style>\n",
       "<table border=\"1\" class=\"dataframe\">\n",
       "  <thead>\n",
       "    <tr style=\"text-align: right;\">\n",
       "      <th></th>\n",
       "      <th>Tweet_ID</th>\n",
       "      <th>Entity</th>\n",
       "      <th>Sentiment</th>\n",
       "      <th>Tweet_Content</th>\n",
       "    </tr>\n",
       "  </thead>\n",
       "  <tbody>\n",
       "    <tr>\n",
       "      <th>0</th>\n",
       "      <td>2401</td>\n",
       "      <td>Borderlands</td>\n",
       "      <td>Positive</td>\n",
       "      <td>im getting on borderlands and i will murder yo...</td>\n",
       "    </tr>\n",
       "    <tr>\n",
       "      <th>1</th>\n",
       "      <td>2401</td>\n",
       "      <td>Borderlands</td>\n",
       "      <td>Positive</td>\n",
       "      <td>I am coming to the borders and I will kill you...</td>\n",
       "    </tr>\n",
       "    <tr>\n",
       "      <th>2</th>\n",
       "      <td>2401</td>\n",
       "      <td>Borderlands</td>\n",
       "      <td>Positive</td>\n",
       "      <td>im getting on borderlands and i will kill you ...</td>\n",
       "    </tr>\n",
       "    <tr>\n",
       "      <th>3</th>\n",
       "      <td>2401</td>\n",
       "      <td>Borderlands</td>\n",
       "      <td>Positive</td>\n",
       "      <td>im coming on borderlands and i will murder you...</td>\n",
       "    </tr>\n",
       "    <tr>\n",
       "      <th>4</th>\n",
       "      <td>2401</td>\n",
       "      <td>Borderlands</td>\n",
       "      <td>Positive</td>\n",
       "      <td>im getting on borderlands 2 and i will murder ...</td>\n",
       "    </tr>\n",
       "  </tbody>\n",
       "</table>\n",
       "</div>"
      ],
      "text/plain": [
       "   Tweet_ID       Entity Sentiment  \\\n",
       "0      2401  Borderlands  Positive   \n",
       "1      2401  Borderlands  Positive   \n",
       "2      2401  Borderlands  Positive   \n",
       "3      2401  Borderlands  Positive   \n",
       "4      2401  Borderlands  Positive   \n",
       "\n",
       "                                       Tweet_Content  \n",
       "0  im getting on borderlands and i will murder yo...  \n",
       "1  I am coming to the borders and I will kill you...  \n",
       "2  im getting on borderlands and i will kill you ...  \n",
       "3  im coming on borderlands and i will murder you...  \n",
       "4  im getting on borderlands 2 and i will murder ...  "
      ]
     },
     "execution_count": 12,
     "metadata": {},
     "output_type": "execute_result"
    }
   ],
   "source": [
    "df.head()"
   ]
  },
  {
   "cell_type": "markdown",
   "id": "aca3826a-032f-41a3-9f83-5d2379db05c7",
   "metadata": {},
   "source": [
    "#### Since we have entered the column names, 1 row has been increased"
   ]
  },
  {
   "cell_type": "code",
   "execution_count": 13,
   "id": "352d56ec-11fd-456c-8f18-a72f391dbece",
   "metadata": {},
   "outputs": [
    {
     "data": {
      "text/plain": [
       "(74682, 4)"
      ]
     },
     "execution_count": 13,
     "metadata": {},
     "output_type": "execute_result"
    }
   ],
   "source": [
    "df.shape"
   ]
  },
  {
   "cell_type": "markdown",
   "id": "691daf27-7f03-444a-bda4-744a176abc60",
   "metadata": {},
   "source": [
    "### Data Preprocessing and Cleaning"
   ]
  },
  {
   "cell_type": "code",
   "execution_count": 14,
   "id": "e5cdb76e-d506-4ba1-a2d1-93b51b792b2a",
   "metadata": {},
   "outputs": [
    {
     "data": {
      "text/plain": [
       "Tweet_ID           0\n",
       "Entity             0\n",
       "Sentiment          0\n",
       "Tweet_Content    686\n",
       "dtype: int64"
      ]
     },
     "execution_count": 14,
     "metadata": {},
     "output_type": "execute_result"
    }
   ],
   "source": [
    "df.isnull().sum()"
   ]
  },
  {
   "cell_type": "markdown",
   "id": "d8a5d000-58d9-41d8-8dd4-2249c8c3e22a",
   "metadata": {},
   "source": [
    "#### we can see that there are 686 null values present in tweet_content column, hence we have to drop that."
   ]
  },
  {
   "cell_type": "code",
   "execution_count": 15,
   "id": "f35ac403-e279-4ad1-a335-74a4ee266543",
   "metadata": {},
   "outputs": [],
   "source": [
    "df.dropna(inplace=True)"
   ]
  },
  {
   "cell_type": "code",
   "execution_count": 16,
   "id": "b39f2347-d810-4ef4-8936-f22be86304c4",
   "metadata": {},
   "outputs": [
    {
     "data": {
      "text/plain": [
       "Tweet_ID         0\n",
       "Entity           0\n",
       "Sentiment        0\n",
       "Tweet_Content    0\n",
       "dtype: int64"
      ]
     },
     "execution_count": 16,
     "metadata": {},
     "output_type": "execute_result"
    }
   ],
   "source": [
    "df.isna().sum()"
   ]
  },
  {
   "cell_type": "code",
   "execution_count": 17,
   "id": "bfcb30eb-10f7-428b-b368-66102a672aad",
   "metadata": {},
   "outputs": [
    {
     "data": {
      "text/plain": [
       "2340"
      ]
     },
     "execution_count": 17,
     "metadata": {},
     "output_type": "execute_result"
    }
   ],
   "source": [
    "df.duplicated().sum()"
   ]
  },
  {
   "cell_type": "markdown",
   "id": "4a3db28f-8065-42fc-8abe-2643cb4dc50b",
   "metadata": {},
   "source": [
    "#### We can see that there are 2340 duplicated values, hence we have to drop that"
   ]
  },
  {
   "cell_type": "code",
   "execution_count": 18,
   "id": "34dfaa34-bf73-4530-99d3-652652b91e8b",
   "metadata": {},
   "outputs": [],
   "source": [
    "df.drop_duplicates(inplace=True)"
   ]
  },
  {
   "cell_type": "markdown",
   "id": "a8897759-1e64-4998-b4ef-51265d751705",
   "metadata": {},
   "source": [
    "#### After removing all null and duplicated values, we need to reset the indexes."
   ]
  },
  {
   "cell_type": "code",
   "execution_count": 19,
   "id": "bdc7096b-0caa-4feb-ba8b-3b37a3c56e33",
   "metadata": {},
   "outputs": [],
   "source": [
    "df.reset_index(inplace=True)"
   ]
  },
  {
   "cell_type": "code",
   "execution_count": 20,
   "id": "ab36d0d1-6920-44ed-b2fa-bee00cd7db4f",
   "metadata": {},
   "outputs": [
    {
     "name": "stdout",
     "output_type": "stream",
     "text": [
      "<class 'pandas.core.frame.DataFrame'>\n",
      "RangeIndex: 71656 entries, 0 to 71655\n",
      "Data columns (total 5 columns):\n",
      " #   Column         Non-Null Count  Dtype \n",
      "---  ------         --------------  ----- \n",
      " 0   index          71656 non-null  int64 \n",
      " 1   Tweet_ID       71656 non-null  int64 \n",
      " 2   Entity         71656 non-null  object\n",
      " 3   Sentiment      71656 non-null  object\n",
      " 4   Tweet_Content  71656 non-null  object\n",
      "dtypes: int64(2), object(3)\n",
      "memory usage: 2.7+ MB\n"
     ]
    }
   ],
   "source": [
    "df.info()"
   ]
  },
  {
   "cell_type": "code",
   "execution_count": 21,
   "id": "87afbfc3-0433-42e1-9f89-9e396ead54c3",
   "metadata": {},
   "outputs": [
    {
     "data": {
      "text/plain": [
       "Sentiment\n",
       "Negative      21698\n",
       "Positive      19713\n",
       "Neutral       17708\n",
       "Irrelevant    12537\n",
       "Name: count, dtype: int64"
      ]
     },
     "execution_count": 21,
     "metadata": {},
     "output_type": "execute_result"
    }
   ],
   "source": [
    "df['Sentiment'].value_counts()"
   ]
  },
  {
   "cell_type": "code",
   "execution_count": 22,
   "id": "55001442-5817-48cf-bb8d-d6616c6c3c6d",
   "metadata": {},
   "outputs": [],
   "source": [
    "stemmer = PorterStemmer()\n",
    "stop_words = set(stopwords.words('english'))"
   ]
  },
  {
   "cell_type": "code",
   "execution_count": 23,
   "id": "72bc9ff1-3240-432c-be10-ed64f853e916",
   "metadata": {},
   "outputs": [
    {
     "data": {
      "text/plain": [
       "{'a',\n",
       " 'about',\n",
       " 'above',\n",
       " 'after',\n",
       " 'again',\n",
       " 'against',\n",
       " 'ain',\n",
       " 'all',\n",
       " 'am',\n",
       " 'an',\n",
       " 'and',\n",
       " 'any',\n",
       " 'are',\n",
       " 'aren',\n",
       " \"aren't\",\n",
       " 'as',\n",
       " 'at',\n",
       " 'be',\n",
       " 'because',\n",
       " 'been',\n",
       " 'before',\n",
       " 'being',\n",
       " 'below',\n",
       " 'between',\n",
       " 'both',\n",
       " 'but',\n",
       " 'by',\n",
       " 'can',\n",
       " 'couldn',\n",
       " \"couldn't\",\n",
       " 'd',\n",
       " 'did',\n",
       " 'didn',\n",
       " \"didn't\",\n",
       " 'do',\n",
       " 'does',\n",
       " 'doesn',\n",
       " \"doesn't\",\n",
       " 'doing',\n",
       " 'don',\n",
       " \"don't\",\n",
       " 'down',\n",
       " 'during',\n",
       " 'each',\n",
       " 'few',\n",
       " 'for',\n",
       " 'from',\n",
       " 'further',\n",
       " 'had',\n",
       " 'hadn',\n",
       " \"hadn't\",\n",
       " 'has',\n",
       " 'hasn',\n",
       " \"hasn't\",\n",
       " 'have',\n",
       " 'haven',\n",
       " \"haven't\",\n",
       " 'having',\n",
       " 'he',\n",
       " 'her',\n",
       " 'here',\n",
       " 'hers',\n",
       " 'herself',\n",
       " 'him',\n",
       " 'himself',\n",
       " 'his',\n",
       " 'how',\n",
       " 'i',\n",
       " 'if',\n",
       " 'in',\n",
       " 'into',\n",
       " 'is',\n",
       " 'isn',\n",
       " \"isn't\",\n",
       " 'it',\n",
       " \"it's\",\n",
       " 'its',\n",
       " 'itself',\n",
       " 'just',\n",
       " 'll',\n",
       " 'm',\n",
       " 'ma',\n",
       " 'me',\n",
       " 'mightn',\n",
       " \"mightn't\",\n",
       " 'more',\n",
       " 'most',\n",
       " 'mustn',\n",
       " \"mustn't\",\n",
       " 'my',\n",
       " 'myself',\n",
       " 'needn',\n",
       " \"needn't\",\n",
       " 'no',\n",
       " 'nor',\n",
       " 'not',\n",
       " 'now',\n",
       " 'o',\n",
       " 'of',\n",
       " 'off',\n",
       " 'on',\n",
       " 'once',\n",
       " 'only',\n",
       " 'or',\n",
       " 'other',\n",
       " 'our',\n",
       " 'ours',\n",
       " 'ourselves',\n",
       " 'out',\n",
       " 'over',\n",
       " 'own',\n",
       " 're',\n",
       " 's',\n",
       " 'same',\n",
       " 'shan',\n",
       " \"shan't\",\n",
       " 'she',\n",
       " \"she's\",\n",
       " 'should',\n",
       " \"should've\",\n",
       " 'shouldn',\n",
       " \"shouldn't\",\n",
       " 'so',\n",
       " 'some',\n",
       " 'such',\n",
       " 't',\n",
       " 'than',\n",
       " 'that',\n",
       " \"that'll\",\n",
       " 'the',\n",
       " 'their',\n",
       " 'theirs',\n",
       " 'them',\n",
       " 'themselves',\n",
       " 'then',\n",
       " 'there',\n",
       " 'these',\n",
       " 'they',\n",
       " 'this',\n",
       " 'those',\n",
       " 'through',\n",
       " 'to',\n",
       " 'too',\n",
       " 'under',\n",
       " 'until',\n",
       " 'up',\n",
       " 've',\n",
       " 'very',\n",
       " 'was',\n",
       " 'wasn',\n",
       " \"wasn't\",\n",
       " 'we',\n",
       " 'were',\n",
       " 'weren',\n",
       " \"weren't\",\n",
       " 'what',\n",
       " 'when',\n",
       " 'where',\n",
       " 'which',\n",
       " 'while',\n",
       " 'who',\n",
       " 'whom',\n",
       " 'why',\n",
       " 'will',\n",
       " 'with',\n",
       " 'won',\n",
       " \"won't\",\n",
       " 'wouldn',\n",
       " \"wouldn't\",\n",
       " 'y',\n",
       " 'you',\n",
       " \"you'd\",\n",
       " \"you'll\",\n",
       " \"you're\",\n",
       " \"you've\",\n",
       " 'your',\n",
       " 'yours',\n",
       " 'yourself',\n",
       " 'yourselves'}"
      ]
     },
     "execution_count": 23,
     "metadata": {},
     "output_type": "execute_result"
    }
   ],
   "source": [
    "stop_words"
   ]
  },
  {
   "cell_type": "markdown",
   "id": "e7737f24-db5c-4529-9a19-c5122d3fe413",
   "metadata": {},
   "source": [
    "#### here we differentiated all the words which has less meaning in the sentences"
   ]
  },
  {
   "cell_type": "code",
   "execution_count": 24,
   "id": "3043d521-db87-42a9-9914-292f96e65570",
   "metadata": {},
   "outputs": [],
   "source": [
    "def preprocess_text(text):\n",
    "    #removing the punctuation, numbers and special characters\n",
    "    text = re.sub(r'[^a-zA-Z\\s]', '',text)\n",
    "    \n",
    "    #Convert to lowercase\n",
    "    text = text.lower()\n",
    "    #Tokenize the text\n",
    "    tokens = text.split()\n",
    "    \n",
    "    #Remove the stop words do stemming\n",
    "    tokens =  [stemmer.stem(word) for word in tokens if word not in stop_words]\n",
    "    return  ' '.join(tokens)"
   ]
  },
  {
   "cell_type": "code",
   "execution_count": 25,
   "id": "4bc61b3d-6c05-4065-ad85-68eb1f8af675",
   "metadata": {},
   "outputs": [
    {
     "name": "stdout",
     "output_type": "stream",
     "text": [
      "                                       Tweet_Content  \\\n",
      "0  im getting on borderlands and i will murder yo...   \n",
      "1  I am coming to the borders and I will kill you...   \n",
      "2  im getting on borderlands and i will kill you ...   \n",
      "3  im coming on borderlands and i will murder you...   \n",
      "4  im getting on borderlands 2 and i will murder ...   \n",
      "\n",
      "           preprocessed_text  \n",
      "0   im get borderland murder  \n",
      "1           come border kill  \n",
      "2     im get borderland kill  \n",
      "3  im come borderland murder  \n",
      "4   im get borderland murder  \n"
     ]
    }
   ],
   "source": [
    "df['preprocessed_text']=df['Tweet_Content'].apply(preprocess_text)\n",
    "print(df[['Tweet_Content','preprocessed_text']].head())"
   ]
  },
  {
   "cell_type": "markdown",
   "id": "eb554077-f6b8-4cb0-8a1c-1527525a4450",
   "metadata": {},
   "source": [
    "#### we made a new column named preprocessed text where we have all the words which are important without punctuations, special symbols and characters as well as numbers."
   ]
  },
  {
   "cell_type": "code",
   "execution_count": 26,
   "id": "805f1f9e-c0f6-4eed-adf1-1e0df42e27d0",
   "metadata": {},
   "outputs": [
    {
     "data": {
      "text/html": [
       "<div>\n",
       "<style scoped>\n",
       "    .dataframe tbody tr th:only-of-type {\n",
       "        vertical-align: middle;\n",
       "    }\n",
       "\n",
       "    .dataframe tbody tr th {\n",
       "        vertical-align: top;\n",
       "    }\n",
       "\n",
       "    .dataframe thead th {\n",
       "        text-align: right;\n",
       "    }\n",
       "</style>\n",
       "<table border=\"1\" class=\"dataframe\">\n",
       "  <thead>\n",
       "    <tr style=\"text-align: right;\">\n",
       "      <th></th>\n",
       "      <th>index</th>\n",
       "      <th>Tweet_ID</th>\n",
       "      <th>Entity</th>\n",
       "      <th>Sentiment</th>\n",
       "      <th>Tweet_Content</th>\n",
       "      <th>preprocessed_text</th>\n",
       "    </tr>\n",
       "  </thead>\n",
       "  <tbody>\n",
       "    <tr>\n",
       "      <th>0</th>\n",
       "      <td>0</td>\n",
       "      <td>2401</td>\n",
       "      <td>Borderlands</td>\n",
       "      <td>Positive</td>\n",
       "      <td>im getting on borderlands and i will murder yo...</td>\n",
       "      <td>im get borderland murder</td>\n",
       "    </tr>\n",
       "    <tr>\n",
       "      <th>1</th>\n",
       "      <td>1</td>\n",
       "      <td>2401</td>\n",
       "      <td>Borderlands</td>\n",
       "      <td>Positive</td>\n",
       "      <td>I am coming to the borders and I will kill you...</td>\n",
       "      <td>come border kill</td>\n",
       "    </tr>\n",
       "    <tr>\n",
       "      <th>2</th>\n",
       "      <td>2</td>\n",
       "      <td>2401</td>\n",
       "      <td>Borderlands</td>\n",
       "      <td>Positive</td>\n",
       "      <td>im getting on borderlands and i will kill you ...</td>\n",
       "      <td>im get borderland kill</td>\n",
       "    </tr>\n",
       "    <tr>\n",
       "      <th>3</th>\n",
       "      <td>3</td>\n",
       "      <td>2401</td>\n",
       "      <td>Borderlands</td>\n",
       "      <td>Positive</td>\n",
       "      <td>im coming on borderlands and i will murder you...</td>\n",
       "      <td>im come borderland murder</td>\n",
       "    </tr>\n",
       "    <tr>\n",
       "      <th>4</th>\n",
       "      <td>4</td>\n",
       "      <td>2401</td>\n",
       "      <td>Borderlands</td>\n",
       "      <td>Positive</td>\n",
       "      <td>im getting on borderlands 2 and i will murder ...</td>\n",
       "      <td>im get borderland murder</td>\n",
       "    </tr>\n",
       "  </tbody>\n",
       "</table>\n",
       "</div>"
      ],
      "text/plain": [
       "   index  Tweet_ID       Entity Sentiment  \\\n",
       "0      0      2401  Borderlands  Positive   \n",
       "1      1      2401  Borderlands  Positive   \n",
       "2      2      2401  Borderlands  Positive   \n",
       "3      3      2401  Borderlands  Positive   \n",
       "4      4      2401  Borderlands  Positive   \n",
       "\n",
       "                                       Tweet_Content  \\\n",
       "0  im getting on borderlands and i will murder yo...   \n",
       "1  I am coming to the borders and I will kill you...   \n",
       "2  im getting on borderlands and i will kill you ...   \n",
       "3  im coming on borderlands and i will murder you...   \n",
       "4  im getting on borderlands 2 and i will murder ...   \n",
       "\n",
       "           preprocessed_text  \n",
       "0   im get borderland murder  \n",
       "1           come border kill  \n",
       "2     im get borderland kill  \n",
       "3  im come borderland murder  \n",
       "4   im get borderland murder  "
      ]
     },
     "execution_count": 26,
     "metadata": {},
     "output_type": "execute_result"
    }
   ],
   "source": [
    "df.head()"
   ]
  },
  {
   "cell_type": "code",
   "execution_count": 27,
   "id": "30ca22b7-3e7d-4dd8-8e2e-931b310765bd",
   "metadata": {},
   "outputs": [
    {
     "data": {
      "image/png": "[encoded data removed]",
      "text/plain": [
       "<Figure size 1500x500 with 1 Axes>"
      ]
     },
     "metadata": {},
     "output_type": "display_data"
    }
   ],
   "source": [
    "plt.figure(figsize=(15,5))\n",
    "sns.countplot(x = \"Sentiment\",data = df,palette=\"Set1\")\n",
    "plt.title(\"Sentiment Distribution\",fontsize=20)\n",
    "plt.show()"
   ]
  },
  {
   "cell_type": "markdown",
   "id": "3bb03dda-b49e-40f3-a050-fe7169b6b3f9",
   "metadata": {},
   "source": [
    "#### Here we can observe that negative sentiments are the highest than others."
   ]
  },
  {
   "cell_type": "code",
   "execution_count": 28,
   "id": "abd7e99e-1cff-45d4-a96e-b897eb0e9495",
   "metadata": {},
   "outputs": [],
   "source": [
    "X=df['preprocessed_text']\n",
    "y=df['Sentiment']"
   ]
  },
  {
   "cell_type": "markdown",
   "id": "08e338a6-e2f3-46e6-87e2-abdce7f73b47",
   "metadata": {},
   "source": [
    "#### we are separating the input and the target as X and y for train test split"
   ]
  },
  {
   "cell_type": "code",
   "execution_count": 29,
   "id": "c0f59479-0b17-4eb7-bb72-7d42fdddb323",
   "metadata": {},
   "outputs": [],
   "source": [
    "train_texts, test_texts, train_labels, test_labels = train_test_split(X, y, test_size=0.2, random_state=42)"
   ]
  },
  {
   "cell_type": "code",
   "execution_count": 30,
   "id": "1007886d-197f-472c-8237-c38b3ba3ad9f",
   "metadata": {},
   "outputs": [],
   "source": [
    "vectorizer = CountVectorizer()\n",
    "X_train = vectorizer.fit_transform(train_texts)\n",
    "X_test = vectorizer.transform(test_texts)"
   ]
  },
  {
   "cell_type": "markdown",
   "id": "6c7cbc9e-b872-41cf-8550-8f7b71451eea",
   "metadata": {},
   "source": [
    "#### CountVectorizer is a tool in Natural Language Processing (NLP) that converts text data into numerical vectors."
   ]
  },
  {
   "cell_type": "code",
   "execution_count": 31,
   "id": "ec404cb0-775f-4b2a-beba-3a923776c164",
   "metadata": {},
   "outputs": [],
   "source": [
    "label_encoder = LabelEncoder()\n",
    "y_train_le = label_encoder.fit_transform(train_labels)\n",
    "y_test_le = label_encoder.transform(test_labels)"
   ]
  },
  {
   "cell_type": "markdown",
   "id": "654c0acd-5f29-4b70-ac00-4142672901d1",
   "metadata": {},
   "source": [
    "#### LabelEncoder is used to transform non-numerical labels (as long as they are hashable and comparable) to numerical labels."
   ]
  },
  {
   "cell_type": "code",
   "execution_count": 32,
   "id": "d33638db-df92-4ff0-86d7-488249048e34",
   "metadata": {},
   "outputs": [],
   "source": [
    "y_train = to_categorical(y_train_le)\n",
    "y_test = to_categorical(y_test_le)"
   ]
  },
  {
   "cell_type": "markdown",
   "id": "5ed7569f-627e-4b05-86d3-041c39e205c4",
   "metadata": {},
   "source": [
    "#### The purpose of converting the integer labels to a binary matrix is to enable the use of categorical cross-entropy loss function, which is commonly used in multi-class classification problems"
   ]
  },
  {
   "cell_type": "code",
   "execution_count": 33,
   "id": "5fc5518d-a610-4ff6-874d-973597ccfaf5",
   "metadata": {},
   "outputs": [],
   "source": [
    "model = models.Sequential([\n",
    "    layers.Dense(128, activation='relu', input_shape=(X_train.shape[1],)),\n",
    "    layers.Dense(64, activation='relu'),\n",
    "    layers.Dense(len(label_encoder.classes_), activation='softmax')\n",
    "])"
   ]
  },
  {
   "cell_type": "markdown",
   "id": "c047a966-85d8-4de2-a7b6-967b21cbce35",
   "metadata": {},
   "source": [
    "#### Here Sequential neural network model is created and the model consists of three fully connected (Dense) layers.¶\n",
    "#### * The first layer has 128 neurons with a rectified linear unit (ReLU) activation function and takes the input with a shape of (X_train.shape[1],), which is the number of features in the training data.\n",
    "#### * The second layer also has a ReLU activation function and 64 neurons.\n",
    "#### * The third and final layer is the output layer, which has a number of neurons equal to the number of unique classes in the dataset and softmax activation function is used for multi-class classification problems."
   ]
  },
  {
   "cell_type": "code",
   "execution_count": 34,
   "id": "87acf712-8191-4788-85cf-7d089389974c",
   "metadata": {},
   "outputs": [],
   "source": [
    "model.compile(optimizer=\"adam\", loss=\"categorical_crossentropy\", metrics=[\"accuracy\"])"
   ]
  },
  {
   "cell_type": "markdown",
   "id": "2c5bee81-b8b9-45b3-a1ab-1d0436357a63",
   "metadata": {},
   "source": [
    "#### The optimizer sets the optimization algorithm to Adam, which is a popular choice due to its efficiency and effectiveness. The loss function to categorical cross-entropy, which is commonly used for multi-class classification problems.The metrics sets the metric to be evaluated during training and testing to accuracy, which is the proportion of correct predictions out of all predictions made"
   ]
  },
  {
   "cell_type": "code",
   "execution_count": 35,
   "id": "3e4d9418-5697-4d0d-8fb3-5ec28a5317db",
   "metadata": {},
   "outputs": [
    {
     "name": "stdout",
     "output_type": "stream",
     "text": [
      "Epoch 1/10\n",
      "\u001b[1m1792/1792\u001b[0m \u001b[32m━━━━━━━━━━━━━━━━━━━━\u001b[0m\u001b[37m\u001b[0m \u001b[1m109s\u001b[0m 58ms/step - accuracy: 0.6122 - loss: 0.9486 - val_accuracy: 0.8436 - val_loss: 0.4158\n",
      "Epoch 2/10\n",
      "\u001b[1m1792/1792\u001b[0m \u001b[32m━━━━━━━━━━━━━━━━━━━━\u001b[0m\u001b[37m\u001b[0m \u001b[1m106s\u001b[0m 59ms/step - accuracy: 0.9139 - loss: 0.2350 - val_accuracy: 0.8894 - val_loss: 0.2998\n",
      "Epoch 3/10\n",
      "\u001b[1m1792/1792\u001b[0m \u001b[32m━━━━━━━━━━━━━━━━━━━━\u001b[0m\u001b[37m\u001b[0m \u001b[1m106s\u001b[0m 59ms/step - accuracy: 0.9561 - loss: 0.1127 - val_accuracy: 0.8937 - val_loss: 0.3199\n",
      "Epoch 4/10\n",
      "\u001b[1m1792/1792\u001b[0m \u001b[32m━━━━━━━━━━━━━━━━━━━━\u001b[0m\u001b[37m\u001b[0m \u001b[1m108s\u001b[0m 60ms/step - accuracy: 0.9654 - loss: 0.0826 - val_accuracy: 0.8967 - val_loss: 0.3414\n",
      "Epoch 5/10\n",
      "\u001b[1m1792/1792\u001b[0m \u001b[32m━━━━━━━━━━━━━━━━━━━━\u001b[0m\u001b[37m\u001b[0m \u001b[1m107s\u001b[0m 59ms/step - accuracy: 0.9676 - loss: 0.0739 - val_accuracy: 0.8951 - val_loss: 0.3745\n",
      "Epoch 6/10\n",
      "\u001b[1m1792/1792\u001b[0m \u001b[32m━━━━━━━━━━━━━━━━━━━━\u001b[0m\u001b[37m\u001b[0m \u001b[1m106s\u001b[0m 59ms/step - accuracy: 0.9701 - loss: 0.0683 - val_accuracy: 0.8921 - val_loss: 0.4017\n",
      "Epoch 7/10\n",
      "\u001b[1m1792/1792\u001b[0m \u001b[32m━━━━━━━━━━━━━━━━━━━━\u001b[0m\u001b[37m\u001b[0m \u001b[1m107s\u001b[0m 60ms/step - accuracy: 0.9712 - loss: 0.0626 - val_accuracy: 0.8942 - val_loss: 0.4062\n",
      "Epoch 8/10\n",
      "\u001b[1m1792/1792\u001b[0m \u001b[32m━━━━━━━━━━━━━━━━━━━━\u001b[0m\u001b[37m\u001b[0m \u001b[1m108s\u001b[0m 60ms/step - accuracy: 0.9721 - loss: 0.0603 - val_accuracy: 0.8928 - val_loss: 0.4573\n",
      "Epoch 9/10\n",
      "\u001b[1m1792/1792\u001b[0m \u001b[32m━━━━━━━━━━━━━━━━━━━━\u001b[0m\u001b[37m\u001b[0m \u001b[1m108s\u001b[0m 60ms/step - accuracy: 0.9734 - loss: 0.0571 - val_accuracy: 0.8939 - val_loss: 0.4467\n",
      "Epoch 10/10\n",
      "\u001b[1m1792/1792\u001b[0m \u001b[32m━━━━━━━━━━━━━━━━━━━━\u001b[0m\u001b[37m\u001b[0m \u001b[1m109s\u001b[0m 61ms/step - accuracy: 0.9726 - loss: 0.0580 - val_accuracy: 0.8914 - val_loss: 0.4911\n"
     ]
    }
   ],
   "source": [
    "history = model.fit(X_train, y_train, epochs=10, validation_data=(X_test , y_test))"
   ]
  },
  {
   "cell_type": "markdown",
   "id": "de8875b0-b10a-4132-8aa0-67f0ca0d3189",
   "metadata": {},
   "source": [
    "#### Here we can observe that the accuracy started from 61% and went up till 97% which means that the model performs with good accuracy as well as the loss was reduced from 94% to 5%"
   ]
  },
  {
   "cell_type": "code",
   "execution_count": 36,
   "id": "b5485b99-7455-42b7-99d0-9c2b0c620846",
   "metadata": {},
   "outputs": [
    {
     "data": {
      "image/png": "[encoded data removed]",
      "text/plain": [
       "<Figure size 800x500 with 1 Axes>"
      ]
     },
     "metadata": {},
     "output_type": "display_data"
    }
   ],
   "source": [
    "plt.figure(figsize=(8, 5))\n",
    "plt.plot(model.history.history[\"loss\"], label=\"Training Loss\")\n",
    "plt.plot(model.history.history[\"val_loss\"], label=\"Validation Loss\")\n",
    "plt.legend()\n",
    "plt.title(\"Loss Visualization\")\n",
    "plt.xlabel(\"Epochs\")\n",
    "plt.ylabel(\"Loss\")\n",
    "plt.show()"
   ]
  },
  {
   "cell_type": "markdown",
   "id": "9cce4943-5eb1-4244-babd-b1e0771b96d0",
   "metadata": {},
   "source": [
    "#### We can observe that the training loss has been drastically reduced and at a certain point it became stable."
   ]
  },
  {
   "cell_type": "code",
   "execution_count": 37,
   "id": "fa439925-7c33-41ac-b36a-ccd5b743fdf1",
   "metadata": {},
   "outputs": [
    {
     "data": {
      "image/png": "[encoded data removed]",
      "text/plain": [
       "<Figure size 800x500 with 1 Axes>"
      ]
     },
     "metadata": {},
     "output_type": "display_data"
    }
   ],
   "source": [
    "plt.figure(figsize=(8, 5))\n",
    "plt.plot(model.history.history[\"accuracy\"], label=\"Training Accuracy\")\n",
    "plt.plot(model.history.history[\"val_accuracy\"], label=\"Validation Accuracy\")\n",
    "plt.legend()\n",
    "plt.title(\"Accuracy Visualization\")\n",
    "plt.xlabel(\"Epochs\")\n",
    "plt.ylabel(\"Accuracy\")\n",
    "plt.show()"
   ]
  },
  {
   "cell_type": "markdown",
   "id": "02af19e8-daaa-409f-9f68-5f54031b6b40",
   "metadata": {},
   "source": [
    "#### the training accuracy has been increased drasticaLLY, and at a point it became stable."
   ]
  },
  {
   "cell_type": "markdown",
   "id": "715077ba-bf1f-4160-b00a-79b03da579cb",
   "metadata": {},
   "source": [
    "#### Building a function to check whether the model is predicting correct results or not."
   ]
  },
  {
   "cell_type": "code",
   "execution_count": 41,
   "id": "841e3efc-169c-4e60-b2ff-66666fdf5ace",
   "metadata": {},
   "outputs": [],
   "source": [
    "def predict_sentiment(input_text):\n",
    "   \n",
    "    input_text = [input_text] \n",
    "    input_vector = vectorizer.transform(input_text)  \n",
    "\n",
    "    input_tensor = tf.convert_to_tensor(input_vector.toarray(), dtype=tf.float32)  \n",
    "  \n",
    "    predictions = model.predict(input_tensor)  \n",
    "\n",
    "    predicted_label_index = np.argmax(predictions) \n",
    "    predicted_sentiment = label_encoder.classes_[predicted_label_index]  \n",
    "\n",
    "    return predicted_sentiment"
   ]
  },
  {
   "cell_type": "code",
   "execution_count": 42,
   "id": "b5e2024d-07a1-45ae-a5d7-9d938ccb738d",
   "metadata": {},
   "outputs": [
    {
     "name": "stdout",
     "output_type": "stream",
     "text": [
      "\u001b[1m1/1\u001b[0m \u001b[32m━━━━━━━━━━━━━━━━━━━━\u001b[0m\u001b[37m\u001b[0m \u001b[1m0s\u001b[0m 237ms/step\n",
      "The predicted sentiment for 'im getting on borderlands and i will murder you all ,' is: Positive\n"
     ]
    }
   ],
   "source": [
    "input_text1 = \"im getting on borderlands and i will murder you all ,\"\n",
    "predicted_sentiment = predict_sentiment(input_text1)\n",
    "print(f\"The predicted sentiment for '{input_text1}' is: {predicted_sentiment}\")"
   ]
  },
  {
   "cell_type": "markdown",
   "id": "4f3f4671-e9b6-4af1-8ff6-1de2c2f6aa5b",
   "metadata": {},
   "source": [
    "#### here we gave the input from the dataset and for which we got the correct prediction, After preprocessing and cleaning , we can say that the model is performing with good accuracy and with small loss value."
   ]
  },
  {
   "cell_type": "code",
   "execution_count": null,
   "id": "dc920250-c477-445f-b895-947516addda7",
   "metadata": {},
   "outputs": [],
   "source": []
  },
  {
   "cell_type": "code",
   "execution_count": null,
   "id": "09f0f542-4aad-47ba-a43a-196572db3ff1",
   "metadata": {},
   "outputs": [],
   "source": []
  }
 ],
 "metadata": {
  "kernelspec": {
   "display_name": "Python 3 (ipykernel)",
   "language": "python",
   "name": "python3"
  },
  "language_info": {
   "codemirror_mode": {
    "name": "ipython",
    "version": 3
   },
   "file_extension": ".py",
   "mimetype": "text/x-python",
   "name": "python",
   "nbconvert_exporter": "python",
   "pygments_lexer": "ipython3",
   "version": "3.11.8"
  }
 },
 "nbformat": 4,
 "nbformat_minor": 5
}
